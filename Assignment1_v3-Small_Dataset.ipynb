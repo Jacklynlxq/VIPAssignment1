{
 "cells": [
  {
   "cell_type": "markdown",
   "metadata": {},
   "source": [
    "<b> Importing Libraries"
   ]
  },
  {
   "cell_type": "code",
   "execution_count": 2,
   "metadata": {},
   "outputs": [],
   "source": [
    "import cv2 \n",
    "import numpy as np\n",
    "from matplotlib import pyplot as plt \n",
    "import os\n",
    "import imageio"
   ]
  },
  {
   "cell_type": "markdown",
   "metadata": {},
   "source": [
    "<b> Defining lungs shape"
   ]
  },
  {
   "cell_type": "code",
   "execution_count": 2,
   "metadata": {},
   "outputs": [
    {
     "name": "stdout",
     "output_type": "stream",
     "text": [
      "Number of contours:  7\n"
     ]
    },
    {
     "data": {
      "text/plain": [
       "(None, None)"
      ]
     },
     "execution_count": 2,
     "metadata": {},
     "output_type": "execute_result"
    }
   ],
   "source": [
    "defined_shape = cv2.imread(\"D:\\Document\\MMU Sem 6\\Visual Information Processing\\Assignment\\lung-dataset\\lung-dataset\\images\\CHNCXR_0002_0.png\",0)\n",
    "\n",
    "# Blurring\n",
    "blur = cv2.blur(defined_shape,(81,81))\n",
    "\n",
    "# thresholding\n",
    "ret,thr = cv2.threshold(blur, 175,255, cv2.THRESH_BINARY)\n",
    "\n",
    "#morphlogical operations\n",
    "# kernel = cv2.getStructuringElement(cv2.MORPH_RECT,(40,60))\n",
    "# closing = cv2.morphologyEx(thr,cv2.MORPH_CLOSE,kernel,iterations = 4)\n",
    "# opening = cv2.morphologyEx(thr,cv2.MORPH_OPEN,kernel,iterations = 2)\n",
    "\n",
    "#Find Contour from blur\n",
    "(_,cnts, _) = cv2.findContours(thr, cv2.RETR_TREE, cv2.CHAIN_APPROX_NONE )\n",
    "print(\"Number of contours: \", len(cnts))\n",
    "# print(cv2.arcLength((cnts[4]) ,True))\n",
    "defined_lungs_contour = []\n",
    "defined_lungs_contour.append(cnts[4]),defined_lungs_contour.append(cnts[5]) #images[1]->4-right lung, 5-left lungs"
   ]
  },
  {
   "cell_type": "markdown",
   "metadata": {},
   "source": [
    "<b> Drawing Contour"
   ]
  },
  {
   "cell_type": "code",
   "execution_count": 3,
   "metadata": {},
   "outputs": [],
   "source": [
    "kernel = cv2.getStructuringElement(cv2.MORPH_RECT,(40,40))\n",
    "\n",
    "lungImagesDir = os.listdir(\"D:\\Document\\MMU Sem 6\\Visual Information Processing\\Assignment\\lung-dataset\\lung-dataset\\images\")\n",
    "\n",
    "# Folder to save the lungs_shape into    \n",
    "# folder containing the images needed\n",
    "lungShapeDir = \"D:\\Document\\MMU Sem 6\\Visual Information Processing\\Assignment\\lung-dataset\\lung-dataset\\lungs_shape\"\n",
    "\n",
    "# create the folder if it does not exist\n",
    "if not os.path.exists(lungShapeDir):  \n",
    "    os.makedirs(lungShapeDir)\n",
    "\n",
    "#using the first image size as the benchmark to compare the size of the images\n",
    "standardImageSize = 8865000\n",
    "\n",
    "# Contours Tracing and Drawing \n",
    "for i in range(len(lungImagesDir)):\n",
    "    img = cv2.imread(\"D:\\Document\\MMU Sem 6\\Visual Information Processing\\Assignment\\lung-dataset\\lung-dataset\\images\\%s\" % lungImagesDir[i],0)\n",
    "    # Blurring\n",
    "    blur = cv2.blur(img,(81,81)) \n",
    "\n",
    "    # thresholding       \n",
    "    thr = cv2.adaptiveThreshold(blur,255,cv2.ADAPTIVE_THRESH_MEAN_C,cv2.THRESH_BINARY,729,3)\n",
    "\n",
    "    # Find Contour from thresholdedLungImages\n",
    "    (_,cnts, _) = cv2.findContours(thr, cv2.RETR_TREE, cv2.CHAIN_APPROX_NONE )\n",
    "\n",
    "    contour_list = []\n",
    "    \n",
    "    # check if the contoured shape has similar area as the defined lung shape\n",
    "    for contour in cnts:\n",
    "        area = cv2.contourArea(contour)\n",
    "\n",
    "        # using a smaller scale to measure the contour area of the contours of the image with a smaller size\n",
    "        if (thr.size < 0.5 * standardImageSize):\n",
    "            # if their areas are relatively similar, append to contour_list of the image\n",
    "            if( (area < cv2.contourArea(defined_lungs_contour[0])*1.5 ) & (area > cv2.contourArea(defined_lungs_contour[0])*0.06 ) ):\n",
    "                contour_list.append(contour)\n",
    "\n",
    "        # if the image size is larger than or equal to half of the standard image size, use this scale to measure the contour area of the contours of the image \n",
    "        else:\n",
    "            # if their areas are relatively similar, append to contour_list of the image\n",
    "            if( (area < cv2.contourArea(defined_lungs_contour[0])*2.5 ) & (area > cv2.contourArea(defined_lungs_contour[0])*0.5 ) ):\n",
    "                contour_list.append(contour)\n",
    "\n",
    "    # provide background for the contours appended in contour_list (the lungs shape)\n",
    "    background = np.zeros(thr.shape)\n",
    "\n",
    "    # Draw Contour on black background\n",
    "    cv2.drawContours(background, contour_list, -1, (255,255,255), -1) \n",
    "\n",
    "    #closing\n",
    "    background = cv2.morphologyEx(background,cv2.MORPH_CLOSE,kernel,iterations = 3)\n",
    "    \n",
    "    cv2.imwrite('D:\\Document\\MMU Sem 6\\Visual Information Processing\\Assignment\\lung-dataset\\lung-dataset\\lungs_shape\\lungs_shape%d.png'%i, background)\n",
    "\n",
    "    "
   ]
  },
  {
   "cell_type": "markdown",
   "metadata": {},
   "source": [
    "# Acurracy Measure"
   ]
  },
  {
   "cell_type": "markdown",
   "metadata": {},
   "source": [
    "<b> Calculate Chi-Square Distance"
   ]
  },
  {
   "cell_type": "code",
   "execution_count": 13,
   "metadata": {},
   "outputs": [],
   "source": [
    "import sys\n",
    "def chiSquareDist(obs,exp):\n",
    "    normObs = obs.ravel()\n",
    "    normExp = exp.ravel()\n",
    "    return sum( ( (normObs-normExp)**2 ) / (normObs+normExp+sys.float_info.epsilon) ) /obs.size"
   ]
  },
  {
   "cell_type": "markdown",
   "metadata": {},
   "source": [
    "<b>Calculate Euclidean Distance"
   ]
  },
  {
   "cell_type": "code",
   "execution_count": 5,
   "metadata": {},
   "outputs": [],
   "source": [
    "import math\n",
    "def euclideanDistance(obs,exp):\n",
    "    normObs = obs.ravel()\n",
    "    normExp = exp.ravel()\n",
    "    return math.sqrt( sum( ((normObs-normExp)**2)/obs.size )) "
   ]
  },
  {
   "cell_type": "markdown",
   "metadata": {},
   "source": [
    "<b>Computing Euclidean Distance and Chi-Square Distance "
   ]
  },
  {
   "cell_type": "code",
   "execution_count": 1,
   "metadata": {},
   "outputs": [
    {
     "ename": "NameError",
     "evalue": "name 'os' is not defined",
     "output_type": "error",
     "traceback": [
      "\u001b[1;31m---------------------------------------------------------------------------\u001b[0m",
      "\u001b[1;31mNameError\u001b[0m                                 Traceback (most recent call last)",
      "\u001b[1;32m<ipython-input-1-adba017bdff5>\u001b[0m in \u001b[0;36m<module>\u001b[1;34m()\u001b[0m\n\u001b[1;32m----> 1\u001b[1;33m \u001b[0mlungShapesDir\u001b[0m \u001b[1;33m=\u001b[0m \u001b[0mos\u001b[0m\u001b[1;33m.\u001b[0m\u001b[0mlistdir\u001b[0m\u001b[1;33m(\u001b[0m\u001b[1;34m\"D:\\Document\\MMU Sem 6\\Visual Information Processing\\Assignment\\lung-dataset\\lung-dataset\\lungs_shape\"\u001b[0m\u001b[1;33m)\u001b[0m\u001b[1;33m\u001b[0m\u001b[0m\n\u001b[0m\u001b[0;32m      2\u001b[0m \u001b[0mmasksDir\u001b[0m\u001b[1;33m=\u001b[0m\u001b[0mos\u001b[0m\u001b[1;33m.\u001b[0m\u001b[0mlistdir\u001b[0m\u001b[1;33m(\u001b[0m\u001b[1;34m\"D:\\Document\\MMU Sem 6\\Visual Information Processing\\Assignment\\lung-dataset\\lung-dataset\\mask\"\u001b[0m\u001b[1;33m)\u001b[0m\u001b[1;33m\u001b[0m\u001b[0m\n\u001b[0;32m      3\u001b[0m \u001b[1;33m\u001b[0m\u001b[0m\n\u001b[0;32m      4\u001b[0m \u001b[0mminEuclideanDistance\u001b[0m \u001b[1;33m=\u001b[0m \u001b[1;36m10\u001b[0m\u001b[1;33m;\u001b[0m\u001b[1;33m\u001b[0m\u001b[0m\n\u001b[0;32m      5\u001b[0m \u001b[0mminChiSquareDistance\u001b[0m \u001b[1;33m=\u001b[0m \u001b[1;36m10\u001b[0m\u001b[1;33m;\u001b[0m\u001b[1;33m\u001b[0m\u001b[0m\n",
      "\u001b[1;31mNameError\u001b[0m: name 'os' is not defined"
     ]
    }
   ],
   "source": [
    "lungShapesDir = os.listdir(\"D:\\Document\\MMU Sem 6\\Visual Information Processing\\Assignment\\lung-dataset\\lung-dataset\\lungs_shape\")\n",
    "masksDir=os.listdir(\"D:\\Document\\MMU Sem 6\\Visual Information Processing\\Assignment\\lung-dataset\\lung-dataset\\mask\")\n",
    "\n",
    "minEuclideanDistance = 10;\n",
    "minChiSquareDistance = 10;\n",
    "\n",
    "euclideanDistList = []\n",
    "chiSquareDistList = []\n",
    "\n",
    "for i in range(len(lungShapesDir)):\n",
    "    shape = cv2.imread('D:\\Document\\MMU Sem 6\\Visual Information Processing\\Assignment\\lung-dataset\\lung-dataset\\lungs_shape\\lungs_shape%d.png'%i, 0)\n",
    "    mask = cv2.imread(\"D:\\Document\\MMU Sem 6\\Visual Information Processing\\Assignment\\lung-dataset\\lung-dataset\\mask\\%s\" % masksDir[i],0)\n",
    "    \n",
    "    print(i)\n",
    "    \n",
    "    # Euclidean Distance\n",
    "    euclideanDist = euclideanDistance(shape,mask)\n",
    "#     euclideanDistList.append(euclideanDist)\n",
    "    if (minEuclideanDistance > euclideanDist):\n",
    "        minEuclideanDistance = euclideanDist;\n",
    "        \n",
    "        minIndexEuclidean = i\n",
    "        \n",
    "        minEuclideanShape = shape\n",
    "        minEuclideanMask = mask\n",
    "        print(\"Euclidean:\",minEuclideanDistance, \",\" , minIndexEuclidean)\n",
    "    \n",
    "    # Chi-Square Distance\n",
    "#     normalisedChiSquareDist = chiSquareDist(shape,mask)\n",
    "#     chiSquareDistList.append(normalisedChiSquareDist)\n",
    "#     if (minChiSquareDistance > normalisedChiSquareDist):\n",
    "#         minChiSquareDistance = normalisedChiSquareDist;\n",
    "        \n",
    "#         minIndexChiSquare = i\n",
    "        \n",
    "#         minChiSquareShape = shape\n",
    "#         minChiSquareMask = mask\n",
    "#         print(\"Chi-Square:\",minChiSquareDistance, \",\" , minIndexChiSquare)\n",
    "        \n",
    "    \n",
    "#     print(\"Max Euclidean Distance: \", maxEuclideanDistance)\n",
    "#     print(\"Max Chi-Square Distance: \", minChiSquareDistance)\n",
    "\n",
    "\n",
    "# print(np.mean(euclideanDistList))\n",
    "# print(np.mean(chiSquareDistList))\n",
    "plt.subplot(221),plt.imshow(minEuclideanShape,cmap='gray'),plt.title(\"maxEuclideanShape:\") #ceiling=ceil(len(img)/number of col)\n",
    "plt.xticks([]), plt.yticks([])   \n",
    "plt.subplot(222),plt.imshow(minEuclideanMask,cmap='gray'),plt.title(\"maxEuclideanMask:\") #ceiling=ceil(len(img)/number of col)\n",
    "plt.xticks([]), plt.yticks([])  \n",
    "# plt.subplot(223),plt.imshow(minChiSquareShape,cmap='gray'),plt.title(\"maxChiSquareShape:\") #ceiling=ceil(len(img)/number of col)\n",
    "# plt.xticks([]), plt.yticks([])   \n",
    "# plt.subplot(224),plt.imshow(minChiSquareMask,cmap='gray'),plt.title(\"maxChiSquareMask:\") #ceiling=ceil(len(img)/number of col)\n",
    "# plt.xticks([]), plt.yticks([])  "
   ]
  }
 ],
 "metadata": {
  "kernelspec": {
   "display_name": "Python 3",
   "language": "python",
   "name": "python3"
  },
  "language_info": {
   "codemirror_mode": {
    "name": "ipython",
    "version": 3
   },
   "file_extension": ".py",
   "mimetype": "text/x-python",
   "name": "python",
   "nbconvert_exporter": "python",
   "pygments_lexer": "ipython3",
   "version": "3.6.4"
  }
 },
 "nbformat": 4,
 "nbformat_minor": 2
}
